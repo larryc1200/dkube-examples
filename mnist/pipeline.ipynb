{
 "cells": [
  {
   "cell_type": "code",
   "execution_count": null,
   "metadata": {},
   "outputs": [],
   "source": [
    "import os,sys\n",
    "import kfp\n",
    "import json"
   ]
  },
  {
   "attachments": {},
   "cell_type": "markdown",
   "metadata": {},
   "source": [
    "### User Variables"
   ]
  },
  {
   "cell_type": "code",
   "execution_count": null,
   "metadata": {},
   "outputs": [],
   "source": [
    "## Fill in this cell with the repo names that you have chosen.\n",
    "\n",
    "code_repo = \"mnist\"\n",
    "dataset_repo = \"mnist\"\n",
    "model_repo = \"mnist\""
   ]
  },
  {
   "attachments": {},
   "cell_type": "markdown",
   "metadata": {},
   "source": [
    "### Get/Set Environment Variables"
   ]
  },
  {
   "cell_type": "code",
   "execution_count": null,
   "metadata": {},
   "outputs": [],
   "source": [
    "components_url = \"/mnt/dkube/pipeline/components/\"\n",
    "dkube_training_op = kfp.components.load_component_from_file(components_url + \"training/component.yaml\")\n",
    "dkube_serving_op = kfp.components.load_component_from_file(components_url + \"serving/component.yaml\")\n",
    "token = os.getenv(\"DKUBE_USER_ACCESS_TOKEN\")\n",
    "project_id = os.environ.get(\"DKUBE_PROJECT_ID\")\n",
    "project_name = os.environ.get(\"DKUBE_PROJECT_NAME\")\n",
    "user_name = os.environ.get(\"DKUBE_USER_LOGIN_NAME\")\n",
    "client = kfp.Client(host=os.getenv(\"KF_PIPELINES_ENDPOINT\"), existing_token=token, namespace=os.getenv(\"USERNAME\"))\n",
    "run_id = 0"
   ]
  },
  {
   "attachments": {},
   "cell_type": "markdown",
   "metadata": {},
   "source": [
    "### Setup Pipeline Definitions"
   ]
  },
  {
   "cell_type": "code",
   "execution_count": null,
   "metadata": {},
   "outputs": [],
   "source": [
    "@kfp.dsl.pipeline(\n",
    "    name='dkube-mnist-pl',\n",
    "    description='sample mnist pipeline with dkube components'\n",
    ")\n",
    "def mnist_pipeline(program=code_repo, dataset=dataset_repo, model=model_repo, project_id=project_id):\n",
    "\n",
    "    train       = dkube_training_op(container='{\"image\":\"ocdr/dkube-datascience-tf-cpu:v2.0.0-17\"}',\n",
    "                                    framework=\"tensorflow\", version=\"2.0.0\",\n",
    "                                    tags=tags,\n",
    "                                    program=str(program), run_script=\"python mnist/train.py\",\n",
    "                                    datasets=json.dumps([str(dataset)]), outputs=json.dumps([str(model)]),\n",
    "                                    input_dataset_mounts='[\"/mnist\"]',\n",
    "                                    output_mounts='[\"/model\"]',\n",
    "                                    envs='[{\"EPOCHS\": \"1\"}]',\n",
    "                                    auth_token=token)\n",
    "\n",
    "    serving     = dkube_serving_op(model=train.outputs['artifact'], device='cpu', \n",
    "                                    serving_image='{\"image\":\"ocdr/tensorflowserver:2.0.0\"}',\n",
    "                                    transformer_image='{\"image\":\"ocdr/dkube-datascience-tf-cpu:v2.0.0-17\"}',\n",
    "                                    transformer_project=str(program),\n",
    "                                    transformer_code='mnist/transformer.py', auth_token=token).after(train)"
   ]
  },
  {
   "attachments": {},
   "cell_type": "markdown",
   "metadata": {},
   "source": [
    "### Create Pipeline Run Name"
   ]
  },
  {
   "cell_type": "code",
   "execution_count": null,
   "metadata": {},
   "outputs": [],
   "source": [
    "# Create names based on whether the IDE has been created within a Project\n",
    "if project_id:\n",
    "    tags = json.dumps([f\"project:{project_id}\"])\n",
    "    run_name = f\"[{project_name}] {user_name} mnist Run {run_id}\"\n",
    "    experiment = f\"[{project_name}]\"\n",
    "    pipeline_name = f\"[{project_name}]mnist-Pipeline.zip\"\n",
    "else:\n",
    "    tags = []\n",
    "    run_name = f\"{user_name} mnist Run {run_id}\"\n",
    "    experiment = \"default\"\n",
    "    pipeline_name = \"mnist-Pipeline.zip\"\n",
    "\n",
    "# Create the pipeline\n",
    "client.create_run_from_pipeline_func(mnist_pipeline, run_name=run_name, experiment_name=experiment, arguments={})\n",
    "run_id += 1"
   ]
  },
  {
   "attachments": {},
   "cell_type": "markdown",
   "metadata": {},
   "source": [
    "### Submit Pipeline"
   ]
  },
  {
   "cell_type": "code",
   "execution_count": null,
   "metadata": {},
   "outputs": [],
   "source": [
    "# Generate & upload pipeline\n",
    "import kfp.compiler as compiler\n",
    "compiler.Compiler().compile(mnist_pipeline, pipeline_name)\n",
    "\n",
    "# Upload Pipeline to DKube if it does not exist\n",
    "pipeline_id = client.get_pipeline_id(pipeline_name)\n",
    "\n",
    "if pipeline_id:\n",
    "    print(\"Pipeline already exists within DKube\")\n",
    "else:\n",
    "    client.upload_pipeline(pipeline_name)"
   ]
  }
 ],
 "metadata": {
  "kernelspec": {
   "display_name": "Python 3",
   "language": "python",
   "name": "python3"
  },
  "language_info": {
   "codemirror_mode": {
    "name": "ipython",
    "version": 3
   },
   "file_extension": ".py",
   "mimetype": "text/x-python",
   "name": "python",
   "nbconvert_exporter": "python",
   "pygments_lexer": "ipython3",
   "version": "3.6.8"
  }
 },
 "nbformat": 4,
 "nbformat_minor": 4
}
